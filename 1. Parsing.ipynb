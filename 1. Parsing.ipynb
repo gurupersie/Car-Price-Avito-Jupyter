{
 "cells": [
  {
   "cell_type": "code",
   "execution_count": 1,
   "id": "a5f31b4e",
   "metadata": {
    "ExecuteTime": {
     "end_time": "2024-05-13T05:53:02.652175Z",
     "start_time": "2024-05-13T05:53:00.524991Z"
    }
   },
   "outputs": [],
   "source": [
    "import requests\n",
    "import itertools\n",
    "import logging\n",
    "from bs4 import BeautifulSoup\n",
    "import time\n",
    "import re\n",
    "from tqdm import tqdm_notebook\n",
    "import warnings\n",
    "import pandas as pd\n",
    "import numpy as np\n",
    "from selenium import webdriver\n",
    "from selenium_stealth import stealth\n",
    "from selenium.webdriver.common.by import By\n",
    "\n",
    "warnings.filterwarnings('ignore')"
   ]
  },
  {
   "cell_type": "markdown",
   "id": "1a8ae102",
   "metadata": {},
   "source": [
    "Задача - получить данные по объявлениям о продаже автомобилей с сайта avito.ru. Интересные нам поля: рейтинг, название авто в объявлении, цена, комплектация и некоторые технические характеристики автомобиля. Парсить будем с помощью Selenium и фреймворка stealth для имитации деятельности живого человека и избежания блокировки ip-адреса. Также будем логировать ключевые моменты во время парсинга."
   ]
  },
  {
   "cell_type": "code",
   "execution_count": 2,
   "id": "666729b0",
   "metadata": {
    "ExecuteTime": {
     "end_time": "2024-05-13T05:53:02.669819Z",
     "start_time": "2024-05-13T05:53:02.660378Z"
    }
   },
   "outputs": [],
   "source": [
    "logging.basicConfig(\n",
    "    level=logging.INFO,\n",
    "    filename=\"parse_log.log\",\n",
    "    format=\n",
    "    \"%(asctime)s - %(levelname)s - %(funcName)s: %(lineno)d - %(message)s\"\n",
    ")"
   ]
  },
  {
   "cell_type": "markdown",
   "id": "a6f95f9c",
   "metadata": {},
   "source": [
    "Создадим небольшой словарик, который поможет нам работать с ссылками авито."
   ]
  },
  {
   "cell_type": "code",
   "execution_count": 3,
   "id": "6a3d8e96",
   "metadata": {
    "ExecuteTime": {
     "end_time": "2024-05-13T05:53:02.696745Z",
     "start_time": "2024-05-13T05:53:02.676076Z"
    }
   },
   "outputs": [],
   "source": [
    "brands_dict = {\n",
    "    'audi': 'ASgBAgICAUTgtg3elyg', \n",
    "    'bmw': 'ASgBAgICAUTgtg3klyg', \n",
    "    'changan': 'ASgBAgICAUTgtg3wlyg', \n",
    "    'chery': 'ASgBAgICAUTgtg30lyg', \n",
    "    'chevrolet': 'ASgBAgICAUTgtg32lyg',\n",
    "    'citroen': 'ASgBAgICAUTgtg36lyg',\n",
    "    'exeed': 'ASgBAgICAUTgtg24ldEB', \n",
    "    'ford': 'ASgBAgICAUTgtg2cmCg', \n",
    "    'geely': 'ASgBAgICAUTgtg2gmCg',\n",
    "    'haval': 'ASgBAgICAUTgtg2umCg', \n",
    "    'honda': 'ASgBAgICAUTgtg2ymCg', \n",
    "    'hyundai': 'ASgBAgICAUTgtg2imzE', \n",
    "    'kia': 'ASgBAgICAUTgtg3KmCg', \n",
    "    'land_rover': 'ASgBAgICAUTgtg3QmCg', \n",
    "    'lexus': 'ASgBAgICAUTgtg3WmCg', \n",
    "    'mazda': 'ASgBAgICAUTgtg3mmCg',\n",
    "    'mercedes-benz': 'ASgBAgICAUTgtg3omCg', \n",
    "    'mitsubishi': 'ASgBAgICAUTgtg3ymCg', \n",
    "    'nissan': 'ASgBAgICAUTgtg36mCg', \n",
    "    'opel': 'ASgBAgICAUTgtg3', \n",
    "    'peugeot': 'ASgBAgICAUTgtg2AmSg', \n",
    "    'renault': 'ASgBAgICAUTgtg2MmSg',\n",
    "    'skoda': 'ASgBAgICAUTgtg2emSg', \n",
    "    'toyota': 'ASgBAgICAUTgtg20mSg', \n",
    "    'volkswagen': 'ASgBAgICAUTgtg24mSg', \n",
    "    'volvo': 'ASgBAgICAUTgtg26mSg', \n",
    "    'vaz_lada': 'ASgBAgICAUTgtg3GmSg', \n",
    "    'gaz': 'ASgBAgICAUTgtg3KmSg'\n",
    "}"
   ]
  },
  {
   "cell_type": "code",
   "execution_count": 4,
   "id": "c11b82ba",
   "metadata": {
    "ExecuteTime": {
     "end_time": "2024-05-13T05:53:02.757827Z",
     "start_time": "2024-05-13T05:53:02.701009Z"
    }
   },
   "outputs": [],
   "source": [
    "class AvitoParser:\n",
    "    ''' \n",
    "    Класс для парсинга авто по бренду постранично с сайта avito.ru.\n",
    "    Каждый бренд имеет в своей ссылке уникальную часть, поэтому словарь с \n",
    "    ними нужно подать на вход классу. \n",
    "    '''\n",
    "    def __init__(self, brands_dict: dict):\n",
    "        ''' \n",
    "        Инициализируем переменные, которые нам понадобятся в будущем\n",
    "        ---------------------------------------------------------------\n",
    "        :brands_dict: dict - словарь с уникальными частями ссылок по брендам.\n",
    "        :page_start: int - номер страницы, с которой начнём парсить.\n",
    "        :page_stop: int - номер страницы, на которой закончим парсить.\n",
    "        :brand: str - бренд авто.\n",
    "        :links_archive: list - архив с ссылками на автомобили, \n",
    "        которые мы получим при парсинге страниц. \n",
    "        '''\n",
    "        self.brands_dict = brands_dict\n",
    "        self.page_start = None\n",
    "        self.page_stop = None\n",
    "        self.brand = None\n",
    "        self.links_archive = None\n",
    "\n",
    "    def __browser_run(self) -> None:\n",
    "        ''' \n",
    "        Встроенный метод для запуска браузера Chrome с помощью \n",
    "        библиотеки Selenium в \"скрытном\" режиме для\n",
    "        обхода возможных блокировок. Браузер запускается с \n",
    "        двумя вкладками и оставляет первую вкладку активной. \n",
    "        '''\n",
    "        try:\n",
    "            options = webdriver.ChromeOptions()\n",
    "            options.add_argument(\"start-maximized\")\n",
    "            options.add_experimental_option(\"excludeSwitches\",\n",
    "                                            [\"enable-automation\"])\n",
    "            options.add_experimental_option('useAutomationExtension', False)\n",
    "            self.driver = webdriver.Chrome(options=options)\n",
    "            stealth(\n",
    "                self.driver,\n",
    "                languages=[\"en-US\", \"en\"],\n",
    "                vendor=\"Google Inc.\",\n",
    "                platform=\"Win64\",\n",
    "                webgl_vendor=\"Intel Inc.\",\n",
    "                renderer=\"Intel Iris OpenGL Engine\",\n",
    "                fix_hairline=True,\n",
    "            )\n",
    "            self.driver.switch_to.new_window('tab')\n",
    "            self.driver.switch_to.window(self.driver.window_handles[0])\n",
    "            logging.info('Успешно открылся браузер с двумя вкладками.')\n",
    "        except Exception as err:\n",
    "            logging.error(f'Браузер не открылся: {err}.')\n",
    "\n",
    "    def __get_url(self, page_num: int) -> None:\n",
    "        ''' \n",
    "        Встроенный метод получения необходимой нам страницы по ссылке. \n",
    "        --------------------------------------------------------\n",
    "        :page_num: int - номер страницы, которую будем парсить. \n",
    "        '''\n",
    "        self.driver.get(\n",
    "            f'https://www.avito.ru/kursk/avtomobili/{self.brand}'\n",
    "            f'-{self.brands_dict[self.brand]}~mCg?cd=1&p={page_num}'\n",
    "            f'&radius=3000&searchRadius=3000')\n",
    "        time.sleep(np.random.randint(6, 8))\n",
    "\n",
    "    def __get_links(self) -> None:\n",
    "        ''' \n",
    "        Встроенный метод для получения ссылок на \n",
    "        машины с нашей текущей страницы. \n",
    "        Добавляет ссылки во временный список links_archive. \n",
    "        '''\n",
    "        try:\n",
    "            block = self.driver.find_element(By.CLASS_NAME,\n",
    "                                             'items-items-kAJAg')\n",
    "            links = block.find_elements(By.CSS_SELECTOR,\n",
    "                                        '[data-marker=\"item-title\"]')\n",
    "            for link in links:\n",
    "                self.links_archive.append(link.get_attribute('href'))\n",
    "            logging.info('Успешно получены ссылки на машины.')\n",
    "        except Exception as err:\n",
    "            logging.error(f'Ошибка в получении ссылок на машины: {err}.')\n",
    "\n",
    "    def __parse_page_to_df(self, page_num: int) -> None:\n",
    "        ''' \n",
    "        Встроенный метод для парсинга информации \n",
    "        непосредственно по ссылкам на машины, \n",
    "        которые мы получали во временный список.\n",
    "        ---------------------------------------------------------------------\n",
    "        :page_num: int - номер страницы, которую парсим. \n",
    "        '''\n",
    "        try:\n",
    "            self.driver.switch_to.window(self.driver.window_handles[1])\n",
    "            data = pd.DataFrame()\n",
    "            for link in self.links_archive:\n",
    "                logging.info(f'Парсим ссылку {link}')\n",
    "                self.driver.get(link)\n",
    "                time.sleep(np.random.randint(11, 15))\n",
    "                soup = BeautifulSoup(self.driver.page_source, 'lxml')\n",
    "                rating_badge = self.driver.find_elements(\n",
    "                    By.CLASS_NAME, \"RatingBadge-root-ob0UI\")\n",
    "                if rating_badge:\n",
    "                    car_rating = soup.find('strong',\n",
    "                                           class_=[\n",
    "                                               'styles-module-root-bLKnd',\n",
    "                                               'styles-module-size_s-AGMw8'\n",
    "                                           ]).text\n",
    "\n",
    "                else:\n",
    "                    car_rating = 'Отсутствует'\n",
    "                car_name = soup.find(\n",
    "                    'h1',\n",
    "                    class_=[\n",
    "                        'styles-module-root-GKtmM', 'styles-module-root-YczkZ',\n",
    "                        'styles-module-size_xxxl-MrhiK',\n",
    "                        'styles-module-size_xxxl-c1c6_',\n",
    "                        'stylesMarningNormal-module-root-S7NIr',\n",
    "                        'stylesMarningNormal-module-header-3xl-scwbO'\n",
    "                    ]).text\n",
    "                car_price = soup.find(\n",
    "                    'span', class_=\"style-price-value-main-TIg6u\").text\n",
    "                car_price = re.sub(r'[^\\d*]', '', car_price)\n",
    "                car_location = soup.find(\n",
    "                    'span', class_=\"style-item-address__string-wt61A\").text\n",
    "                car_options = soup.find_all(\n",
    "                    'ul', class_=\"style-advanced-params-column-cRfzo\")\n",
    "                options_list = []\n",
    "\n",
    "                for option in car_options:\n",
    "                    options_list.extend(\n",
    "                        re.findall(r'[А-ЯЁ][^А-ЯЁ]*', option.text))\n",
    "\n",
    "                opt_values = [\n",
    "                    x for x in options_list if x not in options_list[::2]\n",
    "                ]\n",
    "                opt_names = options_list[::2]\n",
    "                params_block = soup.find_all(\n",
    "                    'li', class_=\"params-paramsList__item-_2Y2O\")\n",
    "                cols = ['Название авто', 'Рейтинг', 'Цена', 'Расположение']\n",
    "                temp_data = pd.DataFrame(\n",
    "                    [[car_name, car_rating, car_price, car_location]],\n",
    "                    columns=cols)\n",
    "\n",
    "                for item in params_block:\n",
    "                    col_name = re.findall(r'(.+):', item.text)[0]\n",
    "                    col_value = re.findall(r':\\s(.+)', item.text)[0]\n",
    "                    temp_data[col_name] = col_value\n",
    "\n",
    "                for name, value in zip(opt_names, opt_values):\n",
    "                    temp_data[name] = value\n",
    "\n",
    "                data = pd.concat([data, temp_data], ignore_index=True)\n",
    "                logging.info('Успешно получена информация о машине.')\n",
    "            data.to_csv(\n",
    "                f'./data_store/parsed_data/data_{self.brand}_{page_num}.csv',\n",
    "                mode='a',\n",
    "                index=False,\n",
    "                encoding='utf-8')\n",
    "            self.driver.switch_to.window(self.driver.window_handles[0])\n",
    "            logging.info(f'Успешно получена информация обо всех машинах '\n",
    "                         f'\"{self.brand}\" на странице {page_num}.')\n",
    "        except Exception as err:\n",
    "            logging.error(\n",
    "                f'Не удалось получить информацию при парсинге: {err}.',\n",
    "                exc_info=True)\n",
    "\n",
    "    def __switch_page(self) -> None:\n",
    "        ''' \n",
    "        Встроенный метод для перелистывания страниц в заданном диапазоне. \n",
    "        '''\n",
    "        for page_num in range(self.page_start, self.page_stop + 1):\n",
    "            start_time = time.perf_counter()\n",
    "            self.__get_url(page_num)\n",
    "            self.__get_links()\n",
    "            self.__parse_page_to_df(page_num)\n",
    "            finish_time = time.perf_counter()\n",
    "            result_time = (finish_time - start_time) / 60\n",
    "            logging.info(f'Время парсинга бренда \"{self.brand}\"'\n",
    "                         f'страницы {page_num}: {result_time} мин.')\n",
    "\n",
    "    def parse(self, brand: str, page_start: int, page_stop: int) -> None:\n",
    "        ''' \n",
    "        Метод, который будем использовать для парсинга. \n",
    "        ---------------------------------------------------\n",
    "        :brand: str - наименование бренда авто.\n",
    "        :page_count: int - количество страниц, которое будем парсить.\n",
    "        '''\n",
    "        self.brand = brand\n",
    "        self.page_start = page_start\n",
    "        self.page_stop = page_stop\n",
    "        self.links_archive = []\n",
    "        self.__browser_run()\n",
    "        self.__switch_page()"
   ]
  },
  {
   "cell_type": "code",
   "execution_count": 5,
   "id": "fb3b48dc",
   "metadata": {
    "ExecuteTime": {
     "end_time": "2024-05-13T05:53:02.779728Z",
     "start_time": "2024-05-13T05:53:02.763719Z"
    }
   },
   "outputs": [],
   "source": [
    "parser = AvitoParser(brands_dict)"
   ]
  },
  {
   "cell_type": "markdown",
   "id": "c342b567",
   "metadata": {},
   "source": [
    "Перемешаем названия брендов, чтобы в случайном порядке их парсить."
   ]
  },
  {
   "cell_type": "code",
   "execution_count": 9,
   "id": "2f3e929a",
   "metadata": {
    "ExecuteTime": {
     "end_time": "2024-05-13T18:19:33.812223Z",
     "start_time": "2024-05-13T18:19:33.804812Z"
    }
   },
   "outputs": [],
   "source": [
    "random_brands_list = np.random.permutation(list(brands_dict.keys()))"
   ]
  },
  {
   "cell_type": "code",
   "execution_count": 10,
   "id": "0656c855",
   "metadata": {
    "ExecuteTime": {
     "end_time": "2024-05-14T02:45:59.674716Z",
     "start_time": "2024-05-13T18:19:34.426157Z"
    }
   },
   "outputs": [
    {
     "data": {
      "application/vnd.jupyter.widget-view+json": {
       "model_id": "8086902d98d94437890295017f7864b6",
       "version_major": 2,
       "version_minor": 0
      },
      "text/plain": [
       "  0%|          | 0/28 [00:00<?, ?it/s]"
      ]
     },
     "metadata": {},
     "output_type": "display_data"
    }
   ],
   "source": [
    "for brand in tqdm_notebook(random_brands_list):\n",
    "    parser.parse(brand=brand, page_start=34, page_stop=35)"
   ]
  },
  {
   "cell_type": "markdown",
   "id": "7738c83a",
   "metadata": {},
   "source": [
    "На выходе получаем небольшие csv-файлы с данными вида data_bmw_72.csv. В названии указан бренд и номер страницы, с которой в этом csv-файле получены данные о машинах."
   ]
  }
 ],
 "metadata": {
  "kernelspec": {
   "display_name": "Python 3 (ipykernel)",
   "language": "python",
   "name": "python3"
  },
  "language_info": {
   "codemirror_mode": {
    "name": "ipython",
    "version": 3
   },
   "file_extension": ".py",
   "mimetype": "text/x-python",
   "name": "python",
   "nbconvert_exporter": "python",
   "pygments_lexer": "ipython3",
   "version": "3.10.11"
  },
  "toc": {
   "base_numbering": 1,
   "nav_menu": {},
   "number_sections": true,
   "sideBar": true,
   "skip_h1_title": false,
   "title_cell": "Table of Contents",
   "title_sidebar": "Contents",
   "toc_cell": false,
   "toc_position": {},
   "toc_section_display": true,
   "toc_window_display": false
  }
 },
 "nbformat": 4,
 "nbformat_minor": 5
}
