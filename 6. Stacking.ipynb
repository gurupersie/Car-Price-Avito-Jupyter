{
 "cells": [
  {
   "cell_type": "code",
   "execution_count": 27,
   "id": "97356507",
   "metadata": {
    "ExecuteTime": {
     "end_time": "2024-08-03T07:34:16.322566Z",
     "start_time": "2024-08-03T07:34:16.277954Z"
    }
   },
   "outputs": [],
   "source": [
    "import pandas as pd\n",
    "import numpy as np\n",
    "\n",
    "from sklearn.linear_model import Ridge, LinearRegression\n",
    "from sklearn.ensemble import RandomForestRegressor, StackingRegressor\n",
    "from sklearn.neighbors import KNeighborsRegressor\n",
    "from lightgbm import LGBMRegressor\n",
    "from catboost import CatBoostRegressor\n",
    "\n",
    "import optuna\n",
    "\n",
    "from sklearn.model_selection import StratifiedKFold, train_test_split, KFold\n",
    "from sklearn.metrics import mean_absolute_error, r2_score, mean_squared_error\n",
    "from sklearn.preprocessing import StandardScaler\n",
    "\n",
    "from secondary_functions.get_metrics import concat_metrics, check_overfitting\n",
    "import yaml\n",
    "\n",
    "from tqdm import tqdm_notebook\n",
    "import warnings\n",
    "from typing import Any\n",
    "warnings.filterwarnings('ignore')\n",
    "\n",
    "SEED = 1618\n",
    "N_FOLDS = 5\n",
    "SAMPLER = optuna.samplers.TPESampler(seed=SEED)\n",
    "PRUNER = optuna.pruners.MedianPruner(n_warmup_steps=10)\n",
    "optuna.logging.set_verbosity(optuna.logging.WARNING)\n",
    "pd.options.display.float_format ='{:,.3f}'.format"
   ]
  },
  {
   "cell_type": "code",
   "execution_count": 35,
   "id": "43ddc5e5",
   "metadata": {
    "ExecuteTime": {
     "end_time": "2024-08-03T08:20:59.976427Z",
     "start_time": "2024-08-03T08:20:59.922171Z"
    }
   },
   "outputs": [
    {
     "data": {
      "text/plain": [
       "{'change_type_columns': {'Рейтинг': 'float32',\n",
       "  'Мощность_двигателя_лс': 'int16',\n",
       "  'Пробег_км': 'int32',\n",
       "  'Год_выпуска': 'int16',\n",
       "  'Цена': 'int32',\n",
       "  'Объём_двигателя_л': 'float32',\n",
       "  'Обмен': 'int8',\n",
       "  'Много_владельцев': 'int8',\n",
       "  'Срок_эксплуатации': 'int8',\n",
       "  'История_пробега_кол_во_записей': 'int8',\n",
       "  'Владельцев_по_ПТС': 'int8',\n",
       "  'Выпуск_кол_во_лет': 'int8'},\n",
       " 'columns_to_drop': ['Название_авто',\n",
       "  'Расположение',\n",
       "  'Наименование_поколения'],\n",
       " 'catb_params': {'boosting_type': 'Ordered',\n",
       "  'bootstrap_type': 'Bernoulli',\n",
       "  'cat_features': ['Поколение',\n",
       "   'Состояние',\n",
       "   'Модификация',\n",
       "   'Тип_двигателя',\n",
       "   'Коробка_передач',\n",
       "   'Привод',\n",
       "   'Комплектация',\n",
       "   'Тип_кузова',\n",
       "   'Цвет',\n",
       "   'Руль',\n",
       "   'Управление_климатом',\n",
       "   'ПТС',\n",
       "   'Бренд_авто',\n",
       "   'Модель_авто',\n",
       "   'Город',\n",
       "   'Федеральный_округ',\n",
       "   'Степень_износа'],\n",
       "  'colsample_bylevel': 0.07016296475032051,\n",
       "  'depth': 12,\n",
       "  'eval_metric': 'MAE',\n",
       "  'iterations': 3000,\n",
       "  'l2_leaf_reg': 12.236324946000956,\n",
       "  'learning_rate': 0.040545768376203786,\n",
       "  'loss_function': 'RMSEWithUncertainty',\n",
       "  'random_state': 1618,\n",
       "  'random_strength': 7,\n",
       "  'subsample': 0.7058628331405539,\n",
       "  'verbose': 0},\n",
       " 'lgbm_params': {'bagging_fraction': 0.8980941365341399,\n",
       "  'bagging_freq': 9,\n",
       "  'categorical_feature': ['Поколение',\n",
       "   'Состояние',\n",
       "   'Модификация',\n",
       "   'Тип_двигателя',\n",
       "   'Коробка_передач',\n",
       "   'Привод',\n",
       "   'Комплектация',\n",
       "   'Тип_кузова',\n",
       "   'Цвет',\n",
       "   'Руль',\n",
       "   'Управление_климатом',\n",
       "   'ПТС',\n",
       "   'Бренд_авто',\n",
       "   'Модель_авто',\n",
       "   'Город',\n",
       "   'Федеральный_округ',\n",
       "   'Степень_износа'],\n",
       "  'colsample_bytree': 0.5877304963197977,\n",
       "  'early_stopping_rounds': 50,\n",
       "  'extra_seed': 1618,\n",
       "  'extra_trees': True,\n",
       "  'feature_fraction': 0.876254844332194,\n",
       "  'lambda_l1': 56.03571647069315,\n",
       "  'lambda_l2': 7.160631796485852,\n",
       "  'learning_rate': 0.054079954377166034,\n",
       "  'max_depth': 12,\n",
       "  'min_split_gain': 19,\n",
       "  'n_estimators': 4000,\n",
       "  'num_leaves': 4280,\n",
       "  'random_state': 1618,\n",
       "  'verbose': -1}}"
      ]
     },
     "execution_count": 35,
     "metadata": {},
     "output_type": "execute_result"
    }
   ],
   "source": [
    "with open('preprocessing.yml', 'r', encoding='utf-8') as file:\n",
    "    config = yaml.load(file, Loader=yaml.FullLoader)\n",
    "config"
   ]
  },
  {
   "cell_type": "markdown",
   "id": "d45c89e5",
   "metadata": {},
   "source": [
    "# Загрузка данных, оптимизация данных по памяти."
   ]
  },
  {
   "cell_type": "markdown",
   "id": "b891a3df",
   "metadata": {},
   "source": [
    "Используем уже найденные optun'ой параметры для каждой из моделей."
   ]
  },
  {
   "cell_type": "code",
   "execution_count": 3,
   "id": "904ea881",
   "metadata": {
    "ExecuteTime": {
     "end_time": "2024-08-02T18:15:08.875994Z",
     "start_time": "2024-08-02T18:15:08.508324Z"
    }
   },
   "outputs": [],
   "source": [
    "df_train = pd.read_csv('./data_store/train.csv').astype(\n",
    "    config['change_type_columns'])\n",
    "df_test = pd.read_csv('./data_store/test.csv').astype(\n",
    "    config['change_type_columns'])\n",
    "df_train[df_train.select_dtypes('object').columns] = df_train[\n",
    "    df_train.select_dtypes('object').columns].astype('category')\n",
    "df_test[df_test.select_dtypes('object').columns] = df_test[\n",
    "    df_test.select_dtypes('object').columns].astype('category')"
   ]
  },
  {
   "cell_type": "code",
   "execution_count": 4,
   "id": "0948a3af",
   "metadata": {
    "ExecuteTime": {
     "end_time": "2024-08-02T18:15:08.926595Z",
     "start_time": "2024-08-02T18:15:08.875994Z"
    }
   },
   "outputs": [
    {
     "name": "stdout",
     "output_type": "stream",
     "text": [
      "<class 'pandas.core.frame.DataFrame'>\n",
      "RangeIndex: 31547 entries, 0 to 31546\n",
      "Data columns (total 29 columns):\n",
      " #   Column                          Non-Null Count  Dtype   \n",
      "---  ------                          --------------  -----   \n",
      " 0   Рейтинг                         31547 non-null  float32 \n",
      " 1   Цена                            31547 non-null  int32   \n",
      " 2   Год_выпуска                     31547 non-null  int16   \n",
      " 3   Пробег_км                       31547 non-null  int32   \n",
      " 4   История_пробега_кол_во_записей  31547 non-null  int8    \n",
      " 5   Владельцев_по_ПТС               31547 non-null  int8    \n",
      " 6   Объём_двигателя_л               31547 non-null  float32 \n",
      " 7   Выпуск_кол_во_лет               31547 non-null  int8    \n",
      " 8   Мощность_двигателя_лс           31547 non-null  int16   \n",
      " 9   Поколение                       31547 non-null  category\n",
      " 10  Состояние                       31547 non-null  category\n",
      " 11  Модификация                     31547 non-null  category\n",
      " 12  Тип_двигателя                   31547 non-null  category\n",
      " 13  Коробка_передач                 31547 non-null  category\n",
      " 14  Привод                          31547 non-null  category\n",
      " 15  Комплектация                    31547 non-null  category\n",
      " 16  Тип_кузова                      31547 non-null  category\n",
      " 17  Цвет                            31547 non-null  category\n",
      " 18  Руль                            31547 non-null  category\n",
      " 19  Управление_климатом             31547 non-null  category\n",
      " 20  ПТС                             31547 non-null  category\n",
      " 21  Обмен                           31547 non-null  int8    \n",
      " 22  Бренд_авто                      31547 non-null  category\n",
      " 23  Модель_авто                     31547 non-null  category\n",
      " 24  Город                           31547 non-null  category\n",
      " 25  Федеральный_округ               31547 non-null  category\n",
      " 26  Много_владельцев                31547 non-null  int8    \n",
      " 27  Срок_эксплуатации               31547 non-null  int8    \n",
      " 28  Степень_износа                  31547 non-null  category\n",
      "dtypes: category(17), float32(2), int16(2), int32(2), int8(6)\n",
      "memory usage: 1.6 MB\n"
     ]
    }
   ],
   "source": [
    "df_train.info()"
   ]
  },
  {
   "cell_type": "code",
   "execution_count": 5,
   "id": "b7f7b4bf",
   "metadata": {
    "ExecuteTime": {
     "end_time": "2024-08-02T18:15:08.958825Z",
     "start_time": "2024-08-02T18:15:08.926595Z"
    }
   },
   "outputs": [],
   "source": [
    "X_train, y_train = df_train.drop('Цена', axis=1),  df_train['Цена'] \n",
    "X_test, y_test = df_test.drop('Цена', axis=1), df_test['Цена']\n",
    "\n",
    "X_train_, X_val, y_train_, y_val = train_test_split(X_train,\n",
    "                                                    y_train,\n",
    "                                                    test_size=0.1,\n",
    "                                                    shuffle=True,\n",
    "                                                    random_state=SEED)"
   ]
  },
  {
   "cell_type": "markdown",
   "id": "0bfa1bb2",
   "metadata": {},
   "source": [
    "# Stacking ручной."
   ]
  },
  {
   "cell_type": "markdown",
   "id": "c39c5a40",
   "metadata": {},
   "source": [
    "Учитывая опыт на бейзлайнах, попробуем стакнуть Tuned_Catboost + Tuned_LGBM + Baseline_Catboost + Baseline_LGBM. В качестве метамоделей протестируем Ridge, LinearRegression, LGBM и KNeighbors."
   ]
  },
  {
   "cell_type": "code",
   "execution_count": 28,
   "id": "b266c967",
   "metadata": {
    "ExecuteTime": {
     "end_time": "2024-08-03T07:34:24.716353Z",
     "start_time": "2024-08-03T07:34:24.692520Z"
    }
   },
   "outputs": [],
   "source": [
    "cv_meta = KFold(n_splits=N_FOLDS, shuffle=True, random_state=SEED)\n",
    "meta_X, meta_X_test = pd.DataFrame(), pd.DataFrame()"
   ]
  },
  {
   "cell_type": "code",
   "execution_count": 7,
   "id": "33166f2c",
   "metadata": {
    "ExecuteTime": {
     "end_time": "2024-08-02T20:11:15.871690Z",
     "start_time": "2024-08-02T18:15:08.976226Z"
    }
   },
   "outputs": [
    {
     "data": {
      "application/vnd.jupyter.widget-view+json": {
       "model_id": "453c3b96934846f5aed4a0460fdec708",
       "version_major": 2,
       "version_minor": 0
      },
      "text/plain": [
       "  0%|          | 0/5 [00:00<?, ?it/s]"
      ]
     },
     "metadata": {},
     "output_type": "display_data"
    },
    {
     "name": "stdout",
     "output_type": "stream",
     "text": [
      "FOLD 1: MAE 221288.12036226896\n",
      "FOLD 2: MAE 227894.2906961858\n",
      "FOLD 3: MAE 236864.1912495638\n",
      "FOLD 4: MAE 215549.0124084577\n",
      "FOLD 5: MAE 225114.7023138939\n"
     ]
    }
   ],
   "source": [
    "catb_tuned_preds_stack = []\n",
    "\n",
    "for idx, (train_idx,\n",
    "          test_idx) in tqdm_notebook(enumerate(cv_meta.split(X_train,\n",
    "                                                             y_train)),\n",
    "                                     total=cv_meta.get_n_splits()):\n",
    "    X_train_x, X_val_x = X_train.iloc[train_idx], X_train.iloc[test_idx]\n",
    "    y_train_x, y_val_x = y_train.values[train_idx], y_train.values[test_idx]\n",
    "\n",
    "    model = CatBoostRegressor(**config['catb_params'])\n",
    "    model.fit(X_train_x,\n",
    "              y_train_x,\n",
    "              eval_set=[(X_val_x, y_val_x)],\n",
    "              early_stopping_rounds=50)\n",
    "    cv_pred = model.predict(X_val_x)[:, 0]\n",
    "    catb_tuned_preds_stack.append(cv_pred)\n",
    "    print(f'FOLD {idx + 1}: MAE {mean_absolute_error(y_val_x, cv_pred)}')\n",
    "\n",
    "model.fit(X_train, y_train, early_stopping_rounds=50)\n",
    "meta_X['catb_tuned'] = np.concatenate(catb_tuned_preds_stack)\n",
    "meta_X_test['catb_tuned'] = model.predict(X_test)[:, 0]"
   ]
  },
  {
   "cell_type": "code",
   "execution_count": 9,
   "id": "5d244ae9",
   "metadata": {
    "ExecuteTime": {
     "end_time": "2024-08-02T20:48:49.071757Z",
     "start_time": "2024-08-02T20:48:26.024553Z"
    }
   },
   "outputs": [
    {
     "data": {
      "application/vnd.jupyter.widget-view+json": {
       "model_id": "e2adaa96e7174450a45ecefa06500685",
       "version_major": 2,
       "version_minor": 0
      },
      "text/plain": [
       "  0%|          | 0/5 [00:00<?, ?it/s]"
      ]
     },
     "metadata": {},
     "output_type": "display_data"
    },
    {
     "name": "stdout",
     "output_type": "stream",
     "text": [
      "FOLD 1: MAE 223419.02977671305\n",
      "FOLD 2: MAE 230052.95082671646\n",
      "FOLD 3: MAE 232319.51134048216\n",
      "FOLD 4: MAE 221853.53292211835\n",
      "FOLD 5: MAE 222493.5259852807\n"
     ]
    }
   ],
   "source": [
    "lgbm_tuned_preds_stack = []\n",
    "\n",
    "for idx, (train_idx,\n",
    "          test_idx) in tqdm_notebook(enumerate(cv_meta.split(X_train,\n",
    "                                                             y_train)),\n",
    "                                     total=cv_meta.get_n_splits()):\n",
    "    X_train_l, X_val_l = X_train.iloc[train_idx], X_train.iloc[test_idx]\n",
    "    y_train_l, y_val_l = y_train.values[train_idx], y_train.values[test_idx]\n",
    "\n",
    "    model = LGBMRegressor(**config['lgbm_params'])\n",
    "    model.fit(X_train_l,\n",
    "              y_train_l,\n",
    "              eval_set=[(X_val_l, y_val_l)],\n",
    "              eval_metric='mae')\n",
    "    cv_pred = model.predict(X_val_l)\n",
    "    lgbm_tuned_preds_stack.append(cv_pred)\n",
    "    print(f'FOLD {idx + 1}: MAE {mean_absolute_error(y_val_l, cv_pred)}')\n",
    "\n",
    "model.fit(X_train_, y_train_, eval_set=[(X_val, y_val)], eval_metric='mae')\n",
    "meta_X['lgbm_tuned'] = np.concatenate(lgbm_tuned_preds_stack)\n",
    "meta_X_test['lgbm_tuned'] = model.predict(X_test)"
   ]
  },
  {
   "cell_type": "code",
   "execution_count": 10,
   "id": "a3da8382",
   "metadata": {
    "ExecuteTime": {
     "end_time": "2024-08-02T20:55:03.574530Z",
     "start_time": "2024-08-02T20:49:20.037470Z"
    }
   },
   "outputs": [
    {
     "data": {
      "application/vnd.jupyter.widget-view+json": {
       "model_id": "343a53d8f6fa4515bb335be338f8982f",
       "version_major": 2,
       "version_minor": 0
      },
      "text/plain": [
       "  0%|          | 0/5 [00:00<?, ?it/s]"
      ]
     },
     "metadata": {},
     "output_type": "display_data"
    },
    {
     "name": "stdout",
     "output_type": "stream",
     "text": [
      "FOLD 1: MAE 226534.08061193782\n",
      "FOLD 2: MAE 235332.36293761258\n",
      "FOLD 3: MAE 246107.40019626528\n",
      "FOLD 4: MAE 225043.1507534035\n",
      "FOLD 5: MAE 249333.71108076654\n"
     ]
    }
   ],
   "source": [
    "catb_preds_stack = []\n",
    "\n",
    "for idx, (train_idx,\n",
    "          test_idx) in tqdm_notebook(enumerate(cv_meta.split(X_train,\n",
    "                                                             y_train)),\n",
    "                                     total=cv_meta.get_n_splits()):\n",
    "    X_train_c, X_val_c = X_train.iloc[train_idx], X_train.iloc[test_idx]\n",
    "    y_train_c, y_val_c = y_train.values[train_idx], y_train.values[test_idx]\n",
    "\n",
    "    model = CatBoostRegressor(\n",
    "        cat_features=config['catb_params']['cat_features'],\n",
    "        verbose=0,\n",
    "        random_state=SEED)\n",
    "    model.fit(X_train_c,\n",
    "              y_train_c,\n",
    "              eval_set=[(X_val_c, y_val_c)],\n",
    "              early_stopping_rounds=50)\n",
    "    cv_pred = model.predict(X_val_c)\n",
    "    catb_preds_stack.append(cv_pred)\n",
    "    print(f'FOLD {idx + 1}: MAE {mean_absolute_error(y_val_c, cv_pred)}')\n",
    "\n",
    "model.fit(X_train, y_train, early_stopping_rounds=50)\n",
    "meta_X['catb'] = np.concatenate(catb_preds_stack)\n",
    "meta_X_test['catb'] = model.predict(X_test)"
   ]
  },
  {
   "cell_type": "code",
   "execution_count": 11,
   "id": "bd8da406",
   "metadata": {
    "ExecuteTime": {
     "end_time": "2024-08-02T20:55:06.985266Z",
     "start_time": "2024-08-02T20:55:03.577377Z"
    }
   },
   "outputs": [
    {
     "data": {
      "application/vnd.jupyter.widget-view+json": {
       "model_id": "16c01eee4f02403bac80186d1b98e4ef",
       "version_major": 2,
       "version_minor": 0
      },
      "text/plain": [
       "  0%|          | 0/5 [00:00<?, ?it/s]"
      ]
     },
     "metadata": {},
     "output_type": "display_data"
    },
    {
     "name": "stdout",
     "output_type": "stream",
     "text": [
      "FOLD 1: MAE 230944.73607184945\n",
      "FOLD 2: MAE 237565.33410586594\n",
      "FOLD 3: MAE 240152.99794118266\n",
      "FOLD 4: MAE 224787.86057816262\n",
      "FOLD 5: MAE 233378.24900778738\n"
     ]
    }
   ],
   "source": [
    "lgbm_preds_stack = []\n",
    "\n",
    "for idx, (train_idx, test_idx) in tqdm_notebook(enumerate(\n",
    "        cv_meta.split(X_train, y_train)),\n",
    "                                                total=cv_meta.get_n_splits()):\n",
    "    X_train_l, X_val_l = X_train.iloc[train_idx], X_train.iloc[test_idx]\n",
    "    y_train_l, y_val_l = y_train.values[train_idx], y_train.values[test_idx]\n",
    "\n",
    "    model = LGBMRegressor(verbose=-1, random_state=SEED)\n",
    "    model.fit(X_train_l,\n",
    "              y_train_l,\n",
    "              eval_set=[(X_val_l, y_val_l)],\n",
    "              eval_metric='mae')\n",
    "    cv_pred = model.predict(X_val_l)\n",
    "    lgbm_preds_stack.append(cv_pred)\n",
    "    print(f'FOLD {idx + 1}: MAE {mean_absolute_error(y_val_l, cv_pred)}')\n",
    "\n",
    "model.fit(X_train, y_train)\n",
    "meta_X['lgbm'] = np.concatenate(lgbm_preds_stack)\n",
    "meta_X_test['lgbm'] = model.predict(X_test)"
   ]
  },
  {
   "cell_type": "code",
   "execution_count": 12,
   "id": "75eb8fd9",
   "metadata": {
    "ExecuteTime": {
     "end_time": "2024-08-02T20:55:07.016580Z",
     "start_time": "2024-08-02T20:55:06.987496Z"
    }
   },
   "outputs": [
    {
     "data": {
      "text/html": [
       "<div>\n",
       "<style scoped>\n",
       "    .dataframe tbody tr th:only-of-type {\n",
       "        vertical-align: middle;\n",
       "    }\n",
       "\n",
       "    .dataframe tbody tr th {\n",
       "        vertical-align: top;\n",
       "    }\n",
       "\n",
       "    .dataframe thead th {\n",
       "        text-align: right;\n",
       "    }\n",
       "</style>\n",
       "<table border=\"1\" class=\"dataframe\">\n",
       "  <thead>\n",
       "    <tr style=\"text-align: right;\">\n",
       "      <th></th>\n",
       "      <th>catb_tuned</th>\n",
       "      <th>lgbm_tuned</th>\n",
       "      <th>catb</th>\n",
       "      <th>lgbm</th>\n",
       "    </tr>\n",
       "  </thead>\n",
       "  <tbody>\n",
       "    <tr>\n",
       "      <th>0</th>\n",
       "      <td>2,053,157.032</td>\n",
       "      <td>2,037,879.854</td>\n",
       "      <td>2,165,014.553</td>\n",
       "      <td>2,019,299.270</td>\n",
       "    </tr>\n",
       "    <tr>\n",
       "      <th>1</th>\n",
       "      <td>2,283,266.410</td>\n",
       "      <td>2,244,964.796</td>\n",
       "      <td>2,173,685.501</td>\n",
       "      <td>2,396,618.302</td>\n",
       "    </tr>\n",
       "    <tr>\n",
       "      <th>2</th>\n",
       "      <td>2,726,615.314</td>\n",
       "      <td>2,735,100.349</td>\n",
       "      <td>2,598,047.057</td>\n",
       "      <td>2,636,163.640</td>\n",
       "    </tr>\n",
       "    <tr>\n",
       "      <th>3</th>\n",
       "      <td>2,045,108.440</td>\n",
       "      <td>1,968,837.705</td>\n",
       "      <td>2,035,189.762</td>\n",
       "      <td>1,851,131.851</td>\n",
       "    </tr>\n",
       "    <tr>\n",
       "      <th>4</th>\n",
       "      <td>2,236,819.012</td>\n",
       "      <td>2,091,728.388</td>\n",
       "      <td>2,369,865.619</td>\n",
       "      <td>2,177,800.410</td>\n",
       "    </tr>\n",
       "  </tbody>\n",
       "</table>\n",
       "</div>"
      ],
      "text/plain": [
       "     catb_tuned    lgbm_tuned          catb          lgbm\n",
       "0 2,053,157.032 2,037,879.854 2,165,014.553 2,019,299.270\n",
       "1 2,283,266.410 2,244,964.796 2,173,685.501 2,396,618.302\n",
       "2 2,726,615.314 2,735,100.349 2,598,047.057 2,636,163.640\n",
       "3 2,045,108.440 1,968,837.705 2,035,189.762 1,851,131.851\n",
       "4 2,236,819.012 2,091,728.388 2,369,865.619 2,177,800.410"
      ]
     },
     "execution_count": 12,
     "metadata": {},
     "output_type": "execute_result"
    }
   ],
   "source": [
    "meta_X[:5]"
   ]
  },
  {
   "cell_type": "code",
   "execution_count": 13,
   "id": "8adfe6e7",
   "metadata": {
    "ExecuteTime": {
     "end_time": "2024-08-02T20:55:07.048371Z",
     "start_time": "2024-08-02T20:55:07.022471Z"
    }
   },
   "outputs": [
    {
     "data": {
      "text/html": [
       "<div>\n",
       "<style scoped>\n",
       "    .dataframe tbody tr th:only-of-type {\n",
       "        vertical-align: middle;\n",
       "    }\n",
       "\n",
       "    .dataframe tbody tr th {\n",
       "        vertical-align: top;\n",
       "    }\n",
       "\n",
       "    .dataframe thead th {\n",
       "        text-align: right;\n",
       "    }\n",
       "</style>\n",
       "<table border=\"1\" class=\"dataframe\">\n",
       "  <thead>\n",
       "    <tr style=\"text-align: right;\">\n",
       "      <th></th>\n",
       "      <th>catb_tuned</th>\n",
       "      <th>lgbm_tuned</th>\n",
       "      <th>catb</th>\n",
       "      <th>lgbm</th>\n",
       "    </tr>\n",
       "  </thead>\n",
       "  <tbody>\n",
       "    <tr>\n",
       "      <th>0</th>\n",
       "      <td>928,297.991</td>\n",
       "      <td>895,997.319</td>\n",
       "      <td>880,556.051</td>\n",
       "      <td>902,180.656</td>\n",
       "    </tr>\n",
       "    <tr>\n",
       "      <th>1</th>\n",
       "      <td>728,641.380</td>\n",
       "      <td>723,832.085</td>\n",
       "      <td>710,318.811</td>\n",
       "      <td>624,275.019</td>\n",
       "    </tr>\n",
       "    <tr>\n",
       "      <th>2</th>\n",
       "      <td>1,818,581.474</td>\n",
       "      <td>1,828,556.120</td>\n",
       "      <td>1,894,409.576</td>\n",
       "      <td>1,928,935.235</td>\n",
       "    </tr>\n",
       "    <tr>\n",
       "      <th>3</th>\n",
       "      <td>696,554.692</td>\n",
       "      <td>662,530.327</td>\n",
       "      <td>745,434.785</td>\n",
       "      <td>536,918.941</td>\n",
       "    </tr>\n",
       "    <tr>\n",
       "      <th>4</th>\n",
       "      <td>2,805,477.298</td>\n",
       "      <td>2,848,402.046</td>\n",
       "      <td>2,986,726.044</td>\n",
       "      <td>2,985,155.823</td>\n",
       "    </tr>\n",
       "  </tbody>\n",
       "</table>\n",
       "</div>"
      ],
      "text/plain": [
       "     catb_tuned    lgbm_tuned          catb          lgbm\n",
       "0   928,297.991   895,997.319   880,556.051   902,180.656\n",
       "1   728,641.380   723,832.085   710,318.811   624,275.019\n",
       "2 1,818,581.474 1,828,556.120 1,894,409.576 1,928,935.235\n",
       "3   696,554.692   662,530.327   745,434.785   536,918.941\n",
       "4 2,805,477.298 2,848,402.046 2,986,726.044 2,985,155.823"
      ]
     },
     "execution_count": 13,
     "metadata": {},
     "output_type": "execute_result"
    }
   ],
   "source": [
    "meta_X_test[:5]"
   ]
  },
  {
   "cell_type": "code",
   "execution_count": 14,
   "id": "4c251fbd",
   "metadata": {
    "ExecuteTime": {
     "end_time": "2024-08-02T20:55:07.064470Z",
     "start_time": "2024-08-02T20:55:07.053471Z"
    }
   },
   "outputs": [
    {
     "data": {
      "text/plain": [
       "((31547, 4), (31547,))"
      ]
     },
     "execution_count": 14,
     "metadata": {},
     "output_type": "execute_result"
    }
   ],
   "source": [
    "meta_X.shape, y_train.shape"
   ]
  },
  {
   "cell_type": "code",
   "execution_count": 15,
   "id": "1e8115db",
   "metadata": {
    "ExecuteTime": {
     "end_time": "2024-08-02T20:55:07.144534Z",
     "start_time": "2024-08-02T20:55:07.068476Z"
    }
   },
   "outputs": [
    {
     "data": {
      "text/html": [
       "<style>#sk-container-id-1 {color: black;background-color: white;}#sk-container-id-1 pre{padding: 0;}#sk-container-id-1 div.sk-toggleable {background-color: white;}#sk-container-id-1 label.sk-toggleable__label {cursor: pointer;display: block;width: 100%;margin-bottom: 0;padding: 0.3em;box-sizing: border-box;text-align: center;}#sk-container-id-1 label.sk-toggleable__label-arrow:before {content: \"▸\";float: left;margin-right: 0.25em;color: #696969;}#sk-container-id-1 label.sk-toggleable__label-arrow:hover:before {color: black;}#sk-container-id-1 div.sk-estimator:hover label.sk-toggleable__label-arrow:before {color: black;}#sk-container-id-1 div.sk-toggleable__content {max-height: 0;max-width: 0;overflow: hidden;text-align: left;background-color: #f0f8ff;}#sk-container-id-1 div.sk-toggleable__content pre {margin: 0.2em;color: black;border-radius: 0.25em;background-color: #f0f8ff;}#sk-container-id-1 input.sk-toggleable__control:checked~div.sk-toggleable__content {max-height: 200px;max-width: 100%;overflow: auto;}#sk-container-id-1 input.sk-toggleable__control:checked~label.sk-toggleable__label-arrow:before {content: \"▾\";}#sk-container-id-1 div.sk-estimator input.sk-toggleable__control:checked~label.sk-toggleable__label {background-color: #d4ebff;}#sk-container-id-1 div.sk-label input.sk-toggleable__control:checked~label.sk-toggleable__label {background-color: #d4ebff;}#sk-container-id-1 input.sk-hidden--visually {border: 0;clip: rect(1px 1px 1px 1px);clip: rect(1px, 1px, 1px, 1px);height: 1px;margin: -1px;overflow: hidden;padding: 0;position: absolute;width: 1px;}#sk-container-id-1 div.sk-estimator {font-family: monospace;background-color: #f0f8ff;border: 1px dotted black;border-radius: 0.25em;box-sizing: border-box;margin-bottom: 0.5em;}#sk-container-id-1 div.sk-estimator:hover {background-color: #d4ebff;}#sk-container-id-1 div.sk-parallel-item::after {content: \"\";width: 100%;border-bottom: 1px solid gray;flex-grow: 1;}#sk-container-id-1 div.sk-label:hover label.sk-toggleable__label {background-color: #d4ebff;}#sk-container-id-1 div.sk-serial::before {content: \"\";position: absolute;border-left: 1px solid gray;box-sizing: border-box;top: 0;bottom: 0;left: 50%;z-index: 0;}#sk-container-id-1 div.sk-serial {display: flex;flex-direction: column;align-items: center;background-color: white;padding-right: 0.2em;padding-left: 0.2em;position: relative;}#sk-container-id-1 div.sk-item {position: relative;z-index: 1;}#sk-container-id-1 div.sk-parallel {display: flex;align-items: stretch;justify-content: center;background-color: white;position: relative;}#sk-container-id-1 div.sk-item::before, #sk-container-id-1 div.sk-parallel-item::before {content: \"\";position: absolute;border-left: 1px solid gray;box-sizing: border-box;top: 0;bottom: 0;left: 50%;z-index: -1;}#sk-container-id-1 div.sk-parallel-item {display: flex;flex-direction: column;z-index: 1;position: relative;background-color: white;}#sk-container-id-1 div.sk-parallel-item:first-child::after {align-self: flex-end;width: 50%;}#sk-container-id-1 div.sk-parallel-item:last-child::after {align-self: flex-start;width: 50%;}#sk-container-id-1 div.sk-parallel-item:only-child::after {width: 0;}#sk-container-id-1 div.sk-dashed-wrapped {border: 1px dashed gray;margin: 0 0.4em 0.5em 0.4em;box-sizing: border-box;padding-bottom: 0.4em;background-color: white;}#sk-container-id-1 div.sk-label label {font-family: monospace;font-weight: bold;display: inline-block;line-height: 1.2em;}#sk-container-id-1 div.sk-label-container {text-align: center;}#sk-container-id-1 div.sk-container {/* jupyter's `normalize.less` sets `[hidden] { display: none; }` but bootstrap.min.css set `[hidden] { display: none !important; }` so we also need the `!important` here to be able to override the default hidden behavior on the sphinx rendered scikit-learn.org. See: https://github.com/scikit-learn/scikit-learn/issues/21755 */display: inline-block !important;position: relative;}#sk-container-id-1 div.sk-text-repr-fallback {display: none;}</style><div id=\"sk-container-id-1\" class=\"sk-top-container\"><div class=\"sk-text-repr-fallback\"><pre>Ridge()</pre><b>In a Jupyter environment, please rerun this cell to show the HTML representation or trust the notebook. <br />On GitHub, the HTML representation is unable to render, please try loading this page with nbviewer.org.</b></div><div class=\"sk-container\" hidden><div class=\"sk-item\"><div class=\"sk-estimator sk-toggleable\"><input class=\"sk-toggleable__control sk-hidden--visually\" id=\"sk-estimator-id-1\" type=\"checkbox\" checked><label for=\"sk-estimator-id-1\" class=\"sk-toggleable__label sk-toggleable__label-arrow\">Ridge</label><div class=\"sk-toggleable__content\"><pre>Ridge()</pre></div></div></div></div></div>"
      ],
      "text/plain": [
       "Ridge()"
      ]
     },
     "execution_count": 15,
     "metadata": {},
     "output_type": "execute_result"
    }
   ],
   "source": [
    "sc = StandardScaler()\n",
    "final_meta_model = Ridge()\n",
    "final_meta_model.fit(sc.fit_transform(meta_X), np.log(y_train + 1))"
   ]
  },
  {
   "cell_type": "code",
   "execution_count": 16,
   "id": "66cb4cc6",
   "metadata": {
    "ExecuteTime": {
     "end_time": "2024-08-02T20:55:07.191472Z",
     "start_time": "2024-08-02T20:55:07.148473Z"
    }
   },
   "outputs": [
    {
     "data": {
      "text/html": [
       "<div>\n",
       "<style scoped>\n",
       "    .dataframe tbody tr th:only-of-type {\n",
       "        vertical-align: middle;\n",
       "    }\n",
       "\n",
       "    .dataframe tbody tr th {\n",
       "        vertical-align: top;\n",
       "    }\n",
       "\n",
       "    .dataframe thead th {\n",
       "        text-align: right;\n",
       "    }\n",
       "</style>\n",
       "<table border=\"1\" class=\"dataframe\">\n",
       "  <thead>\n",
       "    <tr style=\"text-align: right;\">\n",
       "      <th></th>\n",
       "      <th>Модель</th>\n",
       "      <th>MAE</th>\n",
       "      <th>R2_Adjusted</th>\n",
       "      <th>WAPE</th>\n",
       "      <th>RMSE</th>\n",
       "    </tr>\n",
       "  </thead>\n",
       "  <tbody>\n",
       "    <tr>\n",
       "      <th>0</th>\n",
       "      <td>Ridge_tuned_train_stacked</td>\n",
       "      <td>Input contains infinity or a value too large f...</td>\n",
       "      <td>Input contains infinity or a value too large f...</td>\n",
       "      <td>Input contains infinity or a value too large f...</td>\n",
       "      <td>Input contains infinity or a value too large f...</td>\n",
       "    </tr>\n",
       "    <tr>\n",
       "      <th>0</th>\n",
       "      <td>Ridge_tuned_test_stacked</td>\n",
       "      <td>Input contains infinity or a value too large f...</td>\n",
       "      <td>Input contains infinity or a value too large f...</td>\n",
       "      <td>Input contains infinity or a value too large f...</td>\n",
       "      <td>Input contains infinity or a value too large f...</td>\n",
       "    </tr>\n",
       "  </tbody>\n",
       "</table>\n",
       "</div>"
      ],
      "text/plain": [
       "                      Модель  \\\n",
       "0  Ridge_tuned_train_stacked   \n",
       "0   Ridge_tuned_test_stacked   \n",
       "\n",
       "                                                 MAE  \\\n",
       "0  Input contains infinity or a value too large f...   \n",
       "0  Input contains infinity or a value too large f...   \n",
       "\n",
       "                                         R2_Adjusted  \\\n",
       "0  Input contains infinity or a value too large f...   \n",
       "0  Input contains infinity or a value too large f...   \n",
       "\n",
       "                                                WAPE  \\\n",
       "0  Input contains infinity or a value too large f...   \n",
       "0  Input contains infinity or a value too large f...   \n",
       "\n",
       "                                                RMSE  \n",
       "0  Input contains infinity or a value too large f...  \n",
       "0  Input contains infinity or a value too large f...  "
      ]
     },
     "execution_count": 16,
     "metadata": {},
     "output_type": "execute_result"
    }
   ],
   "source": [
    "metrics = pd.DataFrame()\n",
    "metrics = concat_metrics(\n",
    "    metrics,\n",
    "    y_train.values,\n",
    "    np.exp(final_meta_model.predict(meta_X)) - 1,\n",
    "    meta_X,\n",
    "    model_name=f'{final_meta_model.__class__.__name__}_tuned_train_stacked')\n",
    "metrics = concat_metrics(\n",
    "    metrics,\n",
    "    y_test.values,\n",
    "    np.exp(final_meta_model.predict(meta_X_test)) - 1,\n",
    "    meta_X_test,\n",
    "    model_name=f'{final_meta_model.__class__.__name__}_tuned_test_stacked')\n",
    "metrics"
   ]
  },
  {
   "cell_type": "code",
   "execution_count": 17,
   "id": "9a290976",
   "metadata": {
    "ExecuteTime": {
     "end_time": "2024-08-02T20:55:07.223470Z",
     "start_time": "2024-08-02T20:55:07.196520Z"
    }
   },
   "outputs": [
    {
     "name": "stdout",
     "output_type": "stream",
     "text": [
      "Ridge \n",
      "MAE train: 1828136.4106328106 \n",
      "MAE test: 1830318.792494094 \n",
      "MAE diff: 0.12 %\n"
     ]
    }
   ],
   "source": [
    "check_overfitting(meta_X, y_train, meta_X_test, y_test,\n",
    "                  final_meta_model)"
   ]
  },
  {
   "cell_type": "markdown",
   "id": "10c1fa1d",
   "metadata": {},
   "source": [
    "Ridge отработал с огромной ошибкой, попробуем другие метамодели."
   ]
  },
  {
   "cell_type": "code",
   "execution_count": 18,
   "id": "2d4c5678",
   "metadata": {
    "ExecuteTime": {
     "end_time": "2024-08-02T20:55:07.286539Z",
     "start_time": "2024-08-02T20:55:07.227707Z"
    }
   },
   "outputs": [
    {
     "data": {
      "text/html": [
       "<div>\n",
       "<style scoped>\n",
       "    .dataframe tbody tr th:only-of-type {\n",
       "        vertical-align: middle;\n",
       "    }\n",
       "\n",
       "    .dataframe tbody tr th {\n",
       "        vertical-align: top;\n",
       "    }\n",
       "\n",
       "    .dataframe thead th {\n",
       "        text-align: right;\n",
       "    }\n",
       "</style>\n",
       "<table border=\"1\" class=\"dataframe\">\n",
       "  <thead>\n",
       "    <tr style=\"text-align: right;\">\n",
       "      <th></th>\n",
       "      <th>Модель</th>\n",
       "      <th>MAE</th>\n",
       "      <th>R2_Adjusted</th>\n",
       "      <th>WAPE</th>\n",
       "      <th>RMSE</th>\n",
       "    </tr>\n",
       "  </thead>\n",
       "  <tbody>\n",
       "    <tr>\n",
       "      <th>0</th>\n",
       "      <td>Ridge_tuned_train_stacked</td>\n",
       "      <td>Input contains infinity or a value too large f...</td>\n",
       "      <td>Input contains infinity or a value too large f...</td>\n",
       "      <td>Input contains infinity or a value too large f...</td>\n",
       "      <td>Input contains infinity or a value too large f...</td>\n",
       "    </tr>\n",
       "    <tr>\n",
       "      <th>0</th>\n",
       "      <td>Ridge_tuned_test_stacked</td>\n",
       "      <td>Input contains infinity or a value too large f...</td>\n",
       "      <td>Input contains infinity or a value too large f...</td>\n",
       "      <td>Input contains infinity or a value too large f...</td>\n",
       "      <td>Input contains infinity or a value too large f...</td>\n",
       "    </tr>\n",
       "    <tr>\n",
       "      <th>0</th>\n",
       "      <td>LinearRegression_train_stacked</td>\n",
       "      <td>Input contains infinity or a value too large f...</td>\n",
       "      <td>Input contains infinity or a value too large f...</td>\n",
       "      <td>Input contains infinity or a value too large f...</td>\n",
       "      <td>Input contains infinity or a value too large f...</td>\n",
       "    </tr>\n",
       "    <tr>\n",
       "      <th>0</th>\n",
       "      <td>LinearRegression_test_stacked</td>\n",
       "      <td>Input contains infinity or a value too large f...</td>\n",
       "      <td>Input contains infinity or a value too large f...</td>\n",
       "      <td>Input contains infinity or a value too large f...</td>\n",
       "      <td>Input contains infinity or a value too large f...</td>\n",
       "    </tr>\n",
       "  </tbody>\n",
       "</table>\n",
       "</div>"
      ],
      "text/plain": [
       "                           Модель  \\\n",
       "0       Ridge_tuned_train_stacked   \n",
       "0        Ridge_tuned_test_stacked   \n",
       "0  LinearRegression_train_stacked   \n",
       "0   LinearRegression_test_stacked   \n",
       "\n",
       "                                                 MAE  \\\n",
       "0  Input contains infinity or a value too large f...   \n",
       "0  Input contains infinity or a value too large f...   \n",
       "0  Input contains infinity or a value too large f...   \n",
       "0  Input contains infinity or a value too large f...   \n",
       "\n",
       "                                         R2_Adjusted  \\\n",
       "0  Input contains infinity or a value too large f...   \n",
       "0  Input contains infinity or a value too large f...   \n",
       "0  Input contains infinity or a value too large f...   \n",
       "0  Input contains infinity or a value too large f...   \n",
       "\n",
       "                                                WAPE  \\\n",
       "0  Input contains infinity or a value too large f...   \n",
       "0  Input contains infinity or a value too large f...   \n",
       "0  Input contains infinity or a value too large f...   \n",
       "0  Input contains infinity or a value too large f...   \n",
       "\n",
       "                                                RMSE  \n",
       "0  Input contains infinity or a value too large f...  \n",
       "0  Input contains infinity or a value too large f...  \n",
       "0  Input contains infinity or a value too large f...  \n",
       "0  Input contains infinity or a value too large f...  "
      ]
     },
     "execution_count": 18,
     "metadata": {},
     "output_type": "execute_result"
    }
   ],
   "source": [
    "lr_meta = LinearRegression()\n",
    "lr_meta.fit(sc.transform(meta_X), np.log(y_train + 1))\n",
    "metrics = concat_metrics(\n",
    "    metrics,\n",
    "    y_train.values,\n",
    "    np.exp(lr_meta.predict(meta_X)) - 1,\n",
    "    meta_X,\n",
    "    model_name=f'{lr_meta.__class__.__name__}_train_stacked')\n",
    "metrics = concat_metrics(\n",
    "    metrics,\n",
    "    y_test.values,\n",
    "    np.exp(lr_meta.predict(meta_X_test)) - 1,\n",
    "    meta_X_test,\n",
    "    model_name=f'{lr_meta.__class__.__name__}_test_stacked')\n",
    "metrics"
   ]
  },
  {
   "cell_type": "code",
   "execution_count": 19,
   "id": "dc8f8d77",
   "metadata": {
    "ExecuteTime": {
     "end_time": "2024-08-02T20:55:08.806290Z",
     "start_time": "2024-08-02T20:55:07.293472Z"
    }
   },
   "outputs": [
    {
     "data": {
      "application/vnd.jupyter.widget-view+json": {
       "model_id": "a56933f014ce45c9a221eb27323ab5f0",
       "version_major": 2,
       "version_minor": 0
      },
      "text/plain": [
       "  0%|          | 0/6 [00:00<?, ?it/s]"
      ]
     },
     "metadata": {},
     "output_type": "display_data"
    },
    {
     "data": {
      "text/html": [
       "<div>\n",
       "<style scoped>\n",
       "    .dataframe tbody tr th:only-of-type {\n",
       "        vertical-align: middle;\n",
       "    }\n",
       "\n",
       "    .dataframe tbody tr th {\n",
       "        vertical-align: top;\n",
       "    }\n",
       "\n",
       "    .dataframe thead th {\n",
       "        text-align: right;\n",
       "    }\n",
       "</style>\n",
       "<table border=\"1\" class=\"dataframe\">\n",
       "  <thead>\n",
       "    <tr style=\"text-align: right;\">\n",
       "      <th></th>\n",
       "      <th>Модель</th>\n",
       "      <th>MAE</th>\n",
       "      <th>R2_Adjusted</th>\n",
       "      <th>WAPE</th>\n",
       "      <th>RMSE</th>\n",
       "    </tr>\n",
       "  </thead>\n",
       "  <tbody>\n",
       "    <tr>\n",
       "      <th>0</th>\n",
       "      <td>Ridge_tuned_train_stacked</td>\n",
       "      <td>Input contains infinity or a value too large f...</td>\n",
       "      <td>Input contains infinity or a value too large f...</td>\n",
       "      <td>Input contains infinity or a value too large f...</td>\n",
       "      <td>Input contains infinity or a value too large f...</td>\n",
       "    </tr>\n",
       "    <tr>\n",
       "      <th>0</th>\n",
       "      <td>Ridge_tuned_test_stacked</td>\n",
       "      <td>Input contains infinity or a value too large f...</td>\n",
       "      <td>Input contains infinity or a value too large f...</td>\n",
       "      <td>Input contains infinity or a value too large f...</td>\n",
       "      <td>Input contains infinity or a value too large f...</td>\n",
       "    </tr>\n",
       "    <tr>\n",
       "      <th>0</th>\n",
       "      <td>LinearRegression_train_stacked</td>\n",
       "      <td>Input contains infinity or a value too large f...</td>\n",
       "      <td>Input contains infinity or a value too large f...</td>\n",
       "      <td>Input contains infinity or a value too large f...</td>\n",
       "      <td>Input contains infinity or a value too large f...</td>\n",
       "    </tr>\n",
       "    <tr>\n",
       "      <th>0</th>\n",
       "      <td>LinearRegression_test_stacked</td>\n",
       "      <td>Input contains infinity or a value too large f...</td>\n",
       "      <td>Input contains infinity or a value too large f...</td>\n",
       "      <td>Input contains infinity or a value too large f...</td>\n",
       "      <td>Input contains infinity or a value too large f...</td>\n",
       "    </tr>\n",
       "    <tr>\n",
       "      <th>0</th>\n",
       "      <td>KNN_5_neighbors</td>\n",
       "      <td>1,219,297.903</td>\n",
       "      <td>-0.022</td>\n",
       "      <td>412.183</td>\n",
       "      <td>2,247,949.612</td>\n",
       "    </tr>\n",
       "    <tr>\n",
       "      <th>0</th>\n",
       "      <td>KNN_10_neighbors</td>\n",
       "      <td>1,274,803.452</td>\n",
       "      <td>-0.001</td>\n",
       "      <td>430.946</td>\n",
       "      <td>2,224,614.702</td>\n",
       "    </tr>\n",
       "    <tr>\n",
       "      <th>0</th>\n",
       "      <td>KNN_30_neighbors</td>\n",
       "      <td>1,200,748.007</td>\n",
       "      <td>-0.043</td>\n",
       "      <td>405.912</td>\n",
       "      <td>2,271,204.922</td>\n",
       "    </tr>\n",
       "    <tr>\n",
       "      <th>0</th>\n",
       "      <td>KNN_100_neighbors</td>\n",
       "      <td>1,196,244.814</td>\n",
       "      <td>-0.084</td>\n",
       "      <td>404.390</td>\n",
       "      <td>2,315,646.034</td>\n",
       "    </tr>\n",
       "    <tr>\n",
       "      <th>0</th>\n",
       "      <td>KNN_500_neighbors</td>\n",
       "      <td>1,196,224.520</td>\n",
       "      <td>-0.087</td>\n",
       "      <td>404.383</td>\n",
       "      <td>2,318,456.811</td>\n",
       "    </tr>\n",
       "    <tr>\n",
       "      <th>0</th>\n",
       "      <td>KNN_1000_neighbors</td>\n",
       "      <td>1,195,539.022</td>\n",
       "      <td>-0.079</td>\n",
       "      <td>404.151</td>\n",
       "      <td>2,310,125.164</td>\n",
       "    </tr>\n",
       "  </tbody>\n",
       "</table>\n",
       "</div>"
      ],
      "text/plain": [
       "                           Модель  \\\n",
       "0       Ridge_tuned_train_stacked   \n",
       "0        Ridge_tuned_test_stacked   \n",
       "0  LinearRegression_train_stacked   \n",
       "0   LinearRegression_test_stacked   \n",
       "0                 KNN_5_neighbors   \n",
       "0                KNN_10_neighbors   \n",
       "0                KNN_30_neighbors   \n",
       "0               KNN_100_neighbors   \n",
       "0               KNN_500_neighbors   \n",
       "0              KNN_1000_neighbors   \n",
       "\n",
       "                                                 MAE  \\\n",
       "0  Input contains infinity or a value too large f...   \n",
       "0  Input contains infinity or a value too large f...   \n",
       "0  Input contains infinity or a value too large f...   \n",
       "0  Input contains infinity or a value too large f...   \n",
       "0                                      1,219,297.903   \n",
       "0                                      1,274,803.452   \n",
       "0                                      1,200,748.007   \n",
       "0                                      1,196,244.814   \n",
       "0                                      1,196,224.520   \n",
       "0                                      1,195,539.022   \n",
       "\n",
       "                                         R2_Adjusted  \\\n",
       "0  Input contains infinity or a value too large f...   \n",
       "0  Input contains infinity or a value too large f...   \n",
       "0  Input contains infinity or a value too large f...   \n",
       "0  Input contains infinity or a value too large f...   \n",
       "0                                             -0.022   \n",
       "0                                             -0.001   \n",
       "0                                             -0.043   \n",
       "0                                             -0.084   \n",
       "0                                             -0.087   \n",
       "0                                             -0.079   \n",
       "\n",
       "                                                WAPE  \\\n",
       "0  Input contains infinity or a value too large f...   \n",
       "0  Input contains infinity or a value too large f...   \n",
       "0  Input contains infinity or a value too large f...   \n",
       "0  Input contains infinity or a value too large f...   \n",
       "0                                            412.183   \n",
       "0                                            430.946   \n",
       "0                                            405.912   \n",
       "0                                            404.390   \n",
       "0                                            404.383   \n",
       "0                                            404.151   \n",
       "\n",
       "                                                RMSE  \n",
       "0  Input contains infinity or a value too large f...  \n",
       "0  Input contains infinity or a value too large f...  \n",
       "0  Input contains infinity or a value too large f...  \n",
       "0  Input contains infinity or a value too large f...  \n",
       "0                                      2,247,949.612  \n",
       "0                                      2,224,614.702  \n",
       "0                                      2,271,204.922  \n",
       "0                                      2,315,646.034  \n",
       "0                                      2,318,456.811  \n",
       "0                                      2,310,125.164  "
      ]
     },
     "execution_count": 19,
     "metadata": {},
     "output_type": "execute_result"
    }
   ],
   "source": [
    "for num in tqdm_notebook([5, 10, 30, 100, 500, 1000]):\n",
    "    knn = KNeighborsRegressor(n_neighbors=num)\n",
    "    knn.fit(sc.transform(meta_X), np.log(y_train + 1))\n",
    "    metrics = concat_metrics(metrics, \n",
    "                             y_test.values,\n",
    "                             np.exp(knn.predict(meta_X_test)) - 1, \n",
    "                             meta_X_test,\n",
    "                             f'KNN_{num}_neighbors')\n",
    "metrics"
   ]
  },
  {
   "cell_type": "markdown",
   "id": "94f186e9",
   "metadata": {},
   "source": [
    "Линейные алгоритмы проваливаются в бесконечность скорее всего из-за большой ошибки и, как следствие, предсказания слишком большой целевой переменной, метрический также отрабатывает с огромной ошибкой. Попробуем LGBM в качестве метамодели."
   ]
  },
  {
   "cell_type": "code",
   "execution_count": 20,
   "id": "bf353c39",
   "metadata": {
    "ExecuteTime": {
     "end_time": "2024-08-02T20:55:08.821668Z",
     "start_time": "2024-08-02T20:55:08.808250Z"
    }
   },
   "outputs": [],
   "source": [
    "def objective_lgbm_meta(trial,\n",
    "                        X: pd.DataFrame,\n",
    "                        y: pd.Series,\n",
    "                        N_FOLDS: int,\n",
    "                        random_state: int = SEED) -> float:\n",
    "    ''' Функция для подбора гиперпараметров через фреймворк \n",
    "        Optuna для LGBMRegressor. '''\n",
    "\n",
    "    params = {\n",
    "        'n_estimators':\n",
    "        trial.suggest_int('n_estimators', 100, 5000),\n",
    "        'learning_rate':\n",
    "        trial.suggest_float('learning_rate', 1e-4, 0.2, log=True),\n",
    "        'lambda_l1':\n",
    "        trial.suggest_float('lambda_l1', 0, 100),\n",
    "        'lambda_l2':\n",
    "        trial.suggest_float('lambda_l2', 0, 100),\n",
    "        'max_depth':\n",
    "        trial.suggest_int('max_depth', 3, 15),\n",
    "        'feature_fraction':\n",
    "        trial.suggest_float('feature_fraction', 0.2, 0.9),\n",
    "        'bagging_freq':\n",
    "        trial.suggest_int('bagging_freq', 0, 15),\n",
    "        'bagging_fraction':\n",
    "        trial.suggest_float('bagging_fraction', 0.05, 0.9),\n",
    "        'colsample_bytree':\n",
    "        trial.suggest_float('colsample_bytree', 0.1, 1),\n",
    "        'min_split_gain':\n",
    "        trial.suggest_int('min_split_gain', 0, 20),\n",
    "        'num_leaves':\n",
    "        trial.suggest_int('num_leaves', 2, 2**15),\n",
    "        'verbose':\n",
    "        trial.suggest_categorical('verbose', [-1]),\n",
    "        'random_state':\n",
    "        trial.suggest_categorical('random_state', [random_state]),\n",
    "    }\n",
    "\n",
    "    cv_opt = StratifiedKFold(n_splits=N_FOLDS,\n",
    "                             shuffle=True,\n",
    "                             random_state=random_state)\n",
    "    cv_predicts = np.empty(N_FOLDS)\n",
    "\n",
    "    for idx, (train_idx, test_idx) in enumerate(cv_opt.split(X, y)):\n",
    "        X_train, X_val = X.iloc[train_idx], X.iloc[test_idx]\n",
    "        y_train, y_val = y.iloc[train_idx], y.iloc[test_idx]\n",
    "\n",
    "        pruning_callback = optuna.integration.LightGBMPruningCallback(\n",
    "            trial, metric='l1')\n",
    "\n",
    "        model = LGBMRegressor(**params)\n",
    "        model.fit(X_train,\n",
    "                  y_train,\n",
    "                  eval_set=[(X_val, y_val)],\n",
    "                  eval_metric='mae',\n",
    "                  callbacks=[pruning_callback])\n",
    "\n",
    "        y_pred = model.predict(X_val)\n",
    "\n",
    "        cv_predicts[idx] = mean_absolute_error(y_val, y_pred)\n",
    "\n",
    "    return np.mean(cv_predicts)"
   ]
  },
  {
   "cell_type": "code",
   "execution_count": 21,
   "id": "08b009e2",
   "metadata": {
    "ExecuteTime": {
     "end_time": "2024-08-02T20:55:08.837667Z",
     "start_time": "2024-08-02T20:55:08.826667Z"
    }
   },
   "outputs": [],
   "source": [
    "study_lgbm_meta = optuna.create_study(\n",
    "    direction='minimize',\n",
    "    pruner=PRUNER,\n",
    "    sampler=SAMPLER,\n",
    "    study_name='LGBMRegressor_Meta_Optuna')\n",
    "func_lgbm_meta = lambda trial: objective_lgbm_meta(\n",
    "    trial, meta_X, y_train, N_FOLDS=N_FOLDS)"
   ]
  },
  {
   "cell_type": "code",
   "execution_count": 22,
   "id": "49361cc2",
   "metadata": {
    "ExecuteTime": {
     "end_time": "2024-08-02T21:15:43.817409Z",
     "start_time": "2024-08-02T20:55:08.840667Z"
    }
   },
   "outputs": [
    {
     "data": {
      "application/vnd.jupyter.widget-view+json": {
       "model_id": "b795908df0164266b6e937333d7d0586",
       "version_major": 2,
       "version_minor": 0
      },
      "text/plain": [
       "  0%|          | 0/25 [00:00<?, ?it/s]"
      ]
     },
     "metadata": {},
     "output_type": "display_data"
    }
   ],
   "source": [
    "study_lgbm_meta.optimize(func_lgbm_meta,\n",
    "                         n_trials=25,\n",
    "                         show_progress_bar=True,\n",
    "                         n_jobs=-1)"
   ]
  },
  {
   "cell_type": "code",
   "execution_count": 23,
   "id": "36bcfd26",
   "metadata": {
    "ExecuteTime": {
     "end_time": "2024-08-02T21:15:47.846650Z",
     "start_time": "2024-08-02T21:15:43.870223Z"
    }
   },
   "outputs": [
    {
     "data": {
      "text/html": [
       "<div>\n",
       "<style scoped>\n",
       "    .dataframe tbody tr th:only-of-type {\n",
       "        vertical-align: middle;\n",
       "    }\n",
       "\n",
       "    .dataframe tbody tr th {\n",
       "        vertical-align: top;\n",
       "    }\n",
       "\n",
       "    .dataframe thead th {\n",
       "        text-align: right;\n",
       "    }\n",
       "</style>\n",
       "<table border=\"1\" class=\"dataframe\">\n",
       "  <thead>\n",
       "    <tr style=\"text-align: right;\">\n",
       "      <th></th>\n",
       "      <th>Модель</th>\n",
       "      <th>MAE</th>\n",
       "      <th>R2_Adjusted</th>\n",
       "      <th>WAPE</th>\n",
       "      <th>RMSE</th>\n",
       "    </tr>\n",
       "  </thead>\n",
       "  <tbody>\n",
       "    <tr>\n",
       "      <th>0</th>\n",
       "      <td>Ridge_tuned_train_stacked</td>\n",
       "      <td>Input contains infinity or a value too large f...</td>\n",
       "      <td>Input contains infinity or a value too large f...</td>\n",
       "      <td>Input contains infinity or a value too large f...</td>\n",
       "      <td>Input contains infinity or a value too large f...</td>\n",
       "    </tr>\n",
       "    <tr>\n",
       "      <th>0</th>\n",
       "      <td>Ridge_tuned_test_stacked</td>\n",
       "      <td>Input contains infinity or a value too large f...</td>\n",
       "      <td>Input contains infinity or a value too large f...</td>\n",
       "      <td>Input contains infinity or a value too large f...</td>\n",
       "      <td>Input contains infinity or a value too large f...</td>\n",
       "    </tr>\n",
       "    <tr>\n",
       "      <th>0</th>\n",
       "      <td>LinearRegression_train_stacked</td>\n",
       "      <td>Input contains infinity or a value too large f...</td>\n",
       "      <td>Input contains infinity or a value too large f...</td>\n",
       "      <td>Input contains infinity or a value too large f...</td>\n",
       "      <td>Input contains infinity or a value too large f...</td>\n",
       "    </tr>\n",
       "    <tr>\n",
       "      <th>0</th>\n",
       "      <td>LinearRegression_test_stacked</td>\n",
       "      <td>Input contains infinity or a value too large f...</td>\n",
       "      <td>Input contains infinity or a value too large f...</td>\n",
       "      <td>Input contains infinity or a value too large f...</td>\n",
       "      <td>Input contains infinity or a value too large f...</td>\n",
       "    </tr>\n",
       "    <tr>\n",
       "      <th>0</th>\n",
       "      <td>KNN_5_neighbors</td>\n",
       "      <td>1,219,297.903</td>\n",
       "      <td>-0.022</td>\n",
       "      <td>412.183</td>\n",
       "      <td>2,247,949.612</td>\n",
       "    </tr>\n",
       "    <tr>\n",
       "      <th>0</th>\n",
       "      <td>KNN_10_neighbors</td>\n",
       "      <td>1,274,803.452</td>\n",
       "      <td>-0.001</td>\n",
       "      <td>430.946</td>\n",
       "      <td>2,224,614.702</td>\n",
       "    </tr>\n",
       "    <tr>\n",
       "      <th>0</th>\n",
       "      <td>KNN_30_neighbors</td>\n",
       "      <td>1,200,748.007</td>\n",
       "      <td>-0.043</td>\n",
       "      <td>405.912</td>\n",
       "      <td>2,271,204.922</td>\n",
       "    </tr>\n",
       "    <tr>\n",
       "      <th>0</th>\n",
       "      <td>KNN_100_neighbors</td>\n",
       "      <td>1,196,244.814</td>\n",
       "      <td>-0.084</td>\n",
       "      <td>404.390</td>\n",
       "      <td>2,315,646.034</td>\n",
       "    </tr>\n",
       "    <tr>\n",
       "      <th>0</th>\n",
       "      <td>KNN_500_neighbors</td>\n",
       "      <td>1,196,224.520</td>\n",
       "      <td>-0.087</td>\n",
       "      <td>404.383</td>\n",
       "      <td>2,318,456.811</td>\n",
       "    </tr>\n",
       "    <tr>\n",
       "      <th>0</th>\n",
       "      <td>KNN_1000_neighbors</td>\n",
       "      <td>1,195,539.022</td>\n",
       "      <td>-0.079</td>\n",
       "      <td>404.151</td>\n",
       "      <td>2,310,125.164</td>\n",
       "    </tr>\n",
       "    <tr>\n",
       "      <th>0</th>\n",
       "      <td>LGBMRegressor_tuned_train_stacked</td>\n",
       "      <td>1,282,367.532</td>\n",
       "      <td>0.004</td>\n",
       "      <td>1,928.266</td>\n",
       "      <td>2,398,698.999</td>\n",
       "    </tr>\n",
       "    <tr>\n",
       "      <th>0</th>\n",
       "      <td>LGBMRegressor_tuned_test_stacked</td>\n",
       "      <td>1,267,448.740</td>\n",
       "      <td>0.004</td>\n",
       "      <td>428.460</td>\n",
       "      <td>2,219,104.048</td>\n",
       "    </tr>\n",
       "  </tbody>\n",
       "</table>\n",
       "</div>"
      ],
      "text/plain": [
       "                              Модель  \\\n",
       "0          Ridge_tuned_train_stacked   \n",
       "0           Ridge_tuned_test_stacked   \n",
       "0     LinearRegression_train_stacked   \n",
       "0      LinearRegression_test_stacked   \n",
       "0                    KNN_5_neighbors   \n",
       "0                   KNN_10_neighbors   \n",
       "0                   KNN_30_neighbors   \n",
       "0                  KNN_100_neighbors   \n",
       "0                  KNN_500_neighbors   \n",
       "0                 KNN_1000_neighbors   \n",
       "0  LGBMRegressor_tuned_train_stacked   \n",
       "0   LGBMRegressor_tuned_test_stacked   \n",
       "\n",
       "                                                 MAE  \\\n",
       "0  Input contains infinity or a value too large f...   \n",
       "0  Input contains infinity or a value too large f...   \n",
       "0  Input contains infinity or a value too large f...   \n",
       "0  Input contains infinity or a value too large f...   \n",
       "0                                      1,219,297.903   \n",
       "0                                      1,274,803.452   \n",
       "0                                      1,200,748.007   \n",
       "0                                      1,196,244.814   \n",
       "0                                      1,196,224.520   \n",
       "0                                      1,195,539.022   \n",
       "0                                      1,282,367.532   \n",
       "0                                      1,267,448.740   \n",
       "\n",
       "                                         R2_Adjusted  \\\n",
       "0  Input contains infinity or a value too large f...   \n",
       "0  Input contains infinity or a value too large f...   \n",
       "0  Input contains infinity or a value too large f...   \n",
       "0  Input contains infinity or a value too large f...   \n",
       "0                                             -0.022   \n",
       "0                                             -0.001   \n",
       "0                                             -0.043   \n",
       "0                                             -0.084   \n",
       "0                                             -0.087   \n",
       "0                                             -0.079   \n",
       "0                                              0.004   \n",
       "0                                              0.004   \n",
       "\n",
       "                                                WAPE  \\\n",
       "0  Input contains infinity or a value too large f...   \n",
       "0  Input contains infinity or a value too large f...   \n",
       "0  Input contains infinity or a value too large f...   \n",
       "0  Input contains infinity or a value too large f...   \n",
       "0                                            412.183   \n",
       "0                                            430.946   \n",
       "0                                            405.912   \n",
       "0                                            404.390   \n",
       "0                                            404.383   \n",
       "0                                            404.151   \n",
       "0                                          1,928.266   \n",
       "0                                            428.460   \n",
       "\n",
       "                                                RMSE  \n",
       "0  Input contains infinity or a value too large f...  \n",
       "0  Input contains infinity or a value too large f...  \n",
       "0  Input contains infinity or a value too large f...  \n",
       "0  Input contains infinity or a value too large f...  \n",
       "0                                      2,247,949.612  \n",
       "0                                      2,224,614.702  \n",
       "0                                      2,271,204.922  \n",
       "0                                      2,315,646.034  \n",
       "0                                      2,318,456.811  \n",
       "0                                      2,310,125.164  \n",
       "0                                      2,398,698.999  \n",
       "0                                      2,219,104.048  "
      ]
     },
     "execution_count": 23,
     "metadata": {},
     "output_type": "execute_result"
    }
   ],
   "source": [
    "lgbm_meta = LGBMRegressor(**study_lgbm_meta.best_params)\n",
    "lgbm_meta.fit(meta_X, y_train)\n",
    "meta_preds = lgbm_meta.predict(meta_X_test)\n",
    "\n",
    "metrics = concat_metrics(\n",
    "    metrics,\n",
    "    y_train.values,\n",
    "    lgbm_meta.predict(meta_X),\n",
    "    meta_X,\n",
    "    model_name=f'{lgbm_meta.__class__.__name__}_tuned_train_stacked')\n",
    "metrics = concat_metrics(\n",
    "    metrics,\n",
    "    y_test.values,\n",
    "    meta_preds,\n",
    "    meta_X_test,\n",
    "    model_name=f'{lgbm_meta.__class__.__name__}_tuned_test_stacked')\n",
    "metrics"
   ]
  },
  {
   "cell_type": "markdown",
   "id": "351a183c",
   "metadata": {
    "ExecuteTime": {
     "end_time": "2024-07-07T12:53:45.423205Z",
     "start_time": "2024-07-07T12:53:45.354528Z"
    }
   },
   "source": [
    "LGBM как и остальные к сожалению не даёт улучшения качества метрик."
   ]
  },
  {
   "cell_type": "markdown",
   "id": "b8e268df",
   "metadata": {},
   "source": [
    "# Stacking коробочный."
   ]
  },
  {
   "cell_type": "markdown",
   "id": "ad9a42f6",
   "metadata": {},
   "source": [
    "Попробуем коробочную версию стэкинга от sklearn. Уберём у LGBM гиперпараметр, который потребует применения валидационного сета."
   ]
  },
  {
   "cell_type": "code",
   "execution_count": 36,
   "id": "d4368b05",
   "metadata": {
    "ExecuteTime": {
     "end_time": "2024-08-03T10:37:53.359646Z",
     "start_time": "2024-08-03T08:27:02.479791Z"
    }
   },
   "outputs": [
    {
     "data": {
      "text/html": [
       "<div>\n",
       "<style scoped>\n",
       "    .dataframe tbody tr th:only-of-type {\n",
       "        vertical-align: middle;\n",
       "    }\n",
       "\n",
       "    .dataframe tbody tr th {\n",
       "        vertical-align: top;\n",
       "    }\n",
       "\n",
       "    .dataframe thead th {\n",
       "        text-align: right;\n",
       "    }\n",
       "</style>\n",
       "<table border=\"1\" class=\"dataframe\">\n",
       "  <thead>\n",
       "    <tr style=\"text-align: right;\">\n",
       "      <th></th>\n",
       "      <th>Модель</th>\n",
       "      <th>MAE</th>\n",
       "      <th>R2_Adjusted</th>\n",
       "      <th>WAPE</th>\n",
       "      <th>RMSE</th>\n",
       "    </tr>\n",
       "  </thead>\n",
       "  <tbody>\n",
       "    <tr>\n",
       "      <th>0</th>\n",
       "      <td>Ridge_tuned_train_stacked</td>\n",
       "      <td>Input contains infinity or a value too large f...</td>\n",
       "      <td>Input contains infinity or a value too large f...</td>\n",
       "      <td>Input contains infinity or a value too large f...</td>\n",
       "      <td>Input contains infinity or a value too large f...</td>\n",
       "    </tr>\n",
       "    <tr>\n",
       "      <th>0</th>\n",
       "      <td>Ridge_tuned_test_stacked</td>\n",
       "      <td>Input contains infinity or a value too large f...</td>\n",
       "      <td>Input contains infinity or a value too large f...</td>\n",
       "      <td>Input contains infinity or a value too large f...</td>\n",
       "      <td>Input contains infinity or a value too large f...</td>\n",
       "    </tr>\n",
       "    <tr>\n",
       "      <th>0</th>\n",
       "      <td>LinearRegression_train_stacked</td>\n",
       "      <td>Input contains infinity or a value too large f...</td>\n",
       "      <td>Input contains infinity or a value too large f...</td>\n",
       "      <td>Input contains infinity or a value too large f...</td>\n",
       "      <td>Input contains infinity or a value too large f...</td>\n",
       "    </tr>\n",
       "    <tr>\n",
       "      <th>0</th>\n",
       "      <td>LinearRegression_test_stacked</td>\n",
       "      <td>Input contains infinity or a value too large f...</td>\n",
       "      <td>Input contains infinity or a value too large f...</td>\n",
       "      <td>Input contains infinity or a value too large f...</td>\n",
       "      <td>Input contains infinity or a value too large f...</td>\n",
       "    </tr>\n",
       "    <tr>\n",
       "      <th>0</th>\n",
       "      <td>KNN_5_neighbors</td>\n",
       "      <td>1,219,297.903</td>\n",
       "      <td>-0.022</td>\n",
       "      <td>412.183</td>\n",
       "      <td>2,247,949.612</td>\n",
       "    </tr>\n",
       "    <tr>\n",
       "      <th>0</th>\n",
       "      <td>KNN_10_neighbors</td>\n",
       "      <td>1,274,803.452</td>\n",
       "      <td>-0.001</td>\n",
       "      <td>430.946</td>\n",
       "      <td>2,224,614.702</td>\n",
       "    </tr>\n",
       "    <tr>\n",
       "      <th>0</th>\n",
       "      <td>KNN_30_neighbors</td>\n",
       "      <td>1,200,748.007</td>\n",
       "      <td>-0.043</td>\n",
       "      <td>405.912</td>\n",
       "      <td>2,271,204.922</td>\n",
       "    </tr>\n",
       "    <tr>\n",
       "      <th>0</th>\n",
       "      <td>KNN_100_neighbors</td>\n",
       "      <td>1,196,244.814</td>\n",
       "      <td>-0.084</td>\n",
       "      <td>404.390</td>\n",
       "      <td>2,315,646.034</td>\n",
       "    </tr>\n",
       "    <tr>\n",
       "      <th>0</th>\n",
       "      <td>KNN_500_neighbors</td>\n",
       "      <td>1,196,224.520</td>\n",
       "      <td>-0.087</td>\n",
       "      <td>404.383</td>\n",
       "      <td>2,318,456.811</td>\n",
       "    </tr>\n",
       "    <tr>\n",
       "      <th>0</th>\n",
       "      <td>KNN_1000_neighbors</td>\n",
       "      <td>1,195,539.022</td>\n",
       "      <td>-0.079</td>\n",
       "      <td>404.151</td>\n",
       "      <td>2,310,125.164</td>\n",
       "    </tr>\n",
       "    <tr>\n",
       "      <th>0</th>\n",
       "      <td>LGBMRegressor_tuned_train_stacked</td>\n",
       "      <td>1,282,367.532</td>\n",
       "      <td>0.004</td>\n",
       "      <td>1,928.266</td>\n",
       "      <td>2,398,698.999</td>\n",
       "    </tr>\n",
       "    <tr>\n",
       "      <th>0</th>\n",
       "      <td>LGBMRegressor_tuned_test_stacked</td>\n",
       "      <td>1,267,448.740</td>\n",
       "      <td>0.004</td>\n",
       "      <td>428.460</td>\n",
       "      <td>2,219,104.048</td>\n",
       "    </tr>\n",
       "    <tr>\n",
       "      <th>0</th>\n",
       "      <td>StackingRegressor_train_stacked</td>\n",
       "      <td>141,203.322</td>\n",
       "      <td>0.984</td>\n",
       "      <td>212.324</td>\n",
       "      <td>301,487.009</td>\n",
       "    </tr>\n",
       "    <tr>\n",
       "      <th>0</th>\n",
       "      <td>StackingRegressor_test_stacked</td>\n",
       "      <td>208,900.153</td>\n",
       "      <td>0.964</td>\n",
       "      <td>70.619</td>\n",
       "      <td>422,386.750</td>\n",
       "    </tr>\n",
       "  </tbody>\n",
       "</table>\n",
       "</div>"
      ],
      "text/plain": [
       "                              Модель  \\\n",
       "0          Ridge_tuned_train_stacked   \n",
       "0           Ridge_tuned_test_stacked   \n",
       "0     LinearRegression_train_stacked   \n",
       "0      LinearRegression_test_stacked   \n",
       "0                    KNN_5_neighbors   \n",
       "0                   KNN_10_neighbors   \n",
       "0                   KNN_30_neighbors   \n",
       "0                  KNN_100_neighbors   \n",
       "0                  KNN_500_neighbors   \n",
       "0                 KNN_1000_neighbors   \n",
       "0  LGBMRegressor_tuned_train_stacked   \n",
       "0   LGBMRegressor_tuned_test_stacked   \n",
       "0    StackingRegressor_train_stacked   \n",
       "0     StackingRegressor_test_stacked   \n",
       "\n",
       "                                                 MAE  \\\n",
       "0  Input contains infinity or a value too large f...   \n",
       "0  Input contains infinity or a value too large f...   \n",
       "0  Input contains infinity or a value too large f...   \n",
       "0  Input contains infinity or a value too large f...   \n",
       "0                                      1,219,297.903   \n",
       "0                                      1,274,803.452   \n",
       "0                                      1,200,748.007   \n",
       "0                                      1,196,244.814   \n",
       "0                                      1,196,224.520   \n",
       "0                                      1,195,539.022   \n",
       "0                                      1,282,367.532   \n",
       "0                                      1,267,448.740   \n",
       "0                                        141,203.322   \n",
       "0                                        208,900.153   \n",
       "\n",
       "                                         R2_Adjusted  \\\n",
       "0  Input contains infinity or a value too large f...   \n",
       "0  Input contains infinity or a value too large f...   \n",
       "0  Input contains infinity or a value too large f...   \n",
       "0  Input contains infinity or a value too large f...   \n",
       "0                                             -0.022   \n",
       "0                                             -0.001   \n",
       "0                                             -0.043   \n",
       "0                                             -0.084   \n",
       "0                                             -0.087   \n",
       "0                                             -0.079   \n",
       "0                                              0.004   \n",
       "0                                              0.004   \n",
       "0                                              0.984   \n",
       "0                                              0.964   \n",
       "\n",
       "                                                WAPE  \\\n",
       "0  Input contains infinity or a value too large f...   \n",
       "0  Input contains infinity or a value too large f...   \n",
       "0  Input contains infinity or a value too large f...   \n",
       "0  Input contains infinity or a value too large f...   \n",
       "0                                            412.183   \n",
       "0                                            430.946   \n",
       "0                                            405.912   \n",
       "0                                            404.390   \n",
       "0                                            404.383   \n",
       "0                                            404.151   \n",
       "0                                          1,928.266   \n",
       "0                                            428.460   \n",
       "0                                            212.324   \n",
       "0                                             70.619   \n",
       "\n",
       "                                                RMSE  \n",
       "0  Input contains infinity or a value too large f...  \n",
       "0  Input contains infinity or a value too large f...  \n",
       "0  Input contains infinity or a value too large f...  \n",
       "0  Input contains infinity or a value too large f...  \n",
       "0                                      2,247,949.612  \n",
       "0                                      2,224,614.702  \n",
       "0                                      2,271,204.922  \n",
       "0                                      2,315,646.034  \n",
       "0                                      2,318,456.811  \n",
       "0                                      2,310,125.164  \n",
       "0                                      2,398,698.999  \n",
       "0                                      2,219,104.048  \n",
       "0                                        301,487.009  \n",
       "0                                        422,386.750  "
      ]
     },
     "execution_count": 36,
     "metadata": {},
     "output_type": "execute_result"
    }
   ],
   "source": [
    "lgbm_params_without_early_stopping = config['lgbm_params'].copy()\n",
    "lgbm_params_without_early_stopping.pop('early_stopping_rounds', None)\n",
    "lgbm_params_without_early_stopping.pop('eval_metric', None)\n",
    "\n",
    "estimators = [\n",
    "    ('tuned_lgbm', LGBMRegressor(**lgbm_params_without_early_stopping)),\n",
    "    ('tuned_catb', CatBoostRegressor(**config['catb_params'])),\n",
    "    ('baseline_catb',\n",
    "     CatBoostRegressor(cat_features=config['catb_params']['cat_features'],\n",
    "                       verbose=0,\n",
    "                       random_state=SEED)),\n",
    "    ('baseline_lgbm', LGBMRegressor(verbose=-1, random_state=SEED))\n",
    "]\n",
    "\n",
    "meta = StackingRegressor(\n",
    "    estimators=estimators,\n",
    "    cv=cv_meta,\n",
    "    final_estimator=RandomForestRegressor(random_state=SEED))\n",
    "\n",
    "meta.fit(X_train, y_train)\n",
    "\n",
    "metrics = concat_metrics(metrics,\n",
    "                         y_train.values,\n",
    "                         meta.predict(X_train),\n",
    "                         X_train,\n",
    "                         model_name=f'{meta.__class__.__name__}_train_stacked')\n",
    "metrics = concat_metrics(metrics,\n",
    "                         y_test.values,\n",
    "                         meta.predict(X_test),\n",
    "                         X_test,\n",
    "                         model_name=f'{meta.__class__.__name__}_test_stacked')\n",
    "metrics"
   ]
  },
  {
   "cell_type": "code",
   "execution_count": null,
   "id": "b7b026f6",
   "metadata": {},
   "outputs": [],
   "source": [
    "check_overfitting(X_train, y_train, X_test, y_test, meta)"
   ]
  },
  {
   "cell_type": "markdown",
   "id": "a43f19f1",
   "metadata": {},
   "source": [
    "Коробочный стэкинг достаточно неплохо улучшил наши метрики. До этого наш фаворит был LGBMRegressor с MAE: 218,012.288, R2: 0.960, WAPE: 73.699, RMSE: 441,183.265."
   ]
  }
 ],
 "metadata": {
  "kernelspec": {
   "display_name": "Python 3 (ipykernel)",
   "language": "python",
   "name": "python3"
  },
  "language_info": {
   "codemirror_mode": {
    "name": "ipython",
    "version": 3
   },
   "file_extension": ".py",
   "mimetype": "text/x-python",
   "name": "python",
   "nbconvert_exporter": "python",
   "pygments_lexer": "ipython3",
   "version": "3.10.13"
  },
  "toc": {
   "base_numbering": 1,
   "nav_menu": {},
   "number_sections": true,
   "sideBar": true,
   "skip_h1_title": false,
   "title_cell": "Table of Contents",
   "title_sidebar": "Contents",
   "toc_cell": false,
   "toc_position": {},
   "toc_section_display": true,
   "toc_window_display": false
  }
 },
 "nbformat": 4,
 "nbformat_minor": 5
}
